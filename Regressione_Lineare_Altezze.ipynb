{
  "cells": [
    {
      "cell_type": "markdown",
      "id": "20be5b49",
      "metadata": {
        "id": "20be5b49"
      },
      "source": [
        "# 📊 Regressione Lineare con il Dataset delle Altezze\n",
        "\n",
        "In questo notebook esploreremo un dataset contenente l'altezza dei padri (`fheight`) e dei figli (`sheight`), con l'obiettivo di costruire un modello di regressione lineare per prevedere l'altezza del figlio conoscendo quella del padre.\n",
        "\n",
        "---\n",
        "\n",
        "## Obiettivo\n",
        "\n",
        "Guidarti passo dopo passo attraverso il ciclo di vita di un progetto di *Machine Learning supervisionato*, includendo:\n",
        "- Esplorazione dei dati\n",
        "- Preprocessing\n",
        "- Addestramento del modello\n",
        "- Valutazione\n",
        "- Visualizzazione dei risultati\n"
      ]
    },
    {
      "cell_type": "markdown",
      "id": "77e4c836",
      "metadata": {
        "id": "77e4c836"
      },
      "source": [
        "## 🔍 1. Esplorazione del dataset"
      ]
    },
    {
      "cell_type": "markdown",
      "id": "29744039",
      "metadata": {
        "id": "29744039"
      },
      "source": [
        "### ✏️ Esercizio 1.1\n",
        "Carica il dataset `pearson_dataset.csv` e stampa le prime 5 righe per esplorare la struttura dei dati.\n"
      ]
    },
    {
      "cell_type": "code",
      "source": [
        "# Qui faccio l'esercizio 1.1\n"
      ],
      "metadata": {
        "id": "PPMDGTVy_Mbp"
      },
      "id": "PPMDGTVy_Mbp",
      "execution_count": 1,
      "outputs": []
    },
    {
      "cell_type": "markdown",
      "id": "05171f16",
      "metadata": {
        "id": "05171f16"
      },
      "source": [
        "### ✏️ Esercizio 1.2\n",
        "Calcola media, mediana e deviazione standard delle due colonne `fheight` e `sheight`.\n"
      ]
    },
    {
      "cell_type": "code",
      "source": [
        "# Qui esercizio 1.2\n"
      ],
      "metadata": {
        "id": "NEZIWloG_Pca"
      },
      "id": "NEZIWloG_Pca",
      "execution_count": null,
      "outputs": []
    },
    {
      "cell_type": "markdown",
      "id": "0f2d56aa",
      "metadata": {
        "id": "0f2d56aa"
      },
      "source": [
        "### ✏️ Esercizio 1.3\n",
        "Invoca la funzione per disegnare uno scatterplot con `fheight` sull'asse X e `sheight` sull'asse Y per visualizzare la relazione tra le due variabili.\n",
        "\n",
        "\n"
      ]
    },
    {
      "cell_type": "code",
      "source": [
        "def plot_scatter(df, x_col, y_col, x_label=None, y_label=None, title=None):\n",
        "    \"\"\"\n",
        "    Crea uno scatter plot generico tra due colonne di un DataFrame.\n",
        "\n",
        "    Parametri:\n",
        "    - df: pandas DataFrame contenente i dati\n",
        "    - x_col: nome della colonna da usare sull'asse X\n",
        "    - y_col: nome della colonna da usare sull'asse Y\n",
        "    - x_label: etichetta asse X (opzionale)\n",
        "    - y_label: etichetta asse Y (opzionale)\n",
        "    - title: titolo del grafico (opzionale)\n",
        "    \"\"\"\n",
        "    plt.figure(figsize=(8, 5))\n",
        "    plt.scatter(df[x_col], df[y_col], alpha=0.7)\n",
        "    plt.xlabel(x_label if x_label else x_col)\n",
        "    plt.ylabel(y_label if y_label else y_col)\n",
        "    plt.title(title if title else f\"{y_col} vs {x_col}\")\n",
        "    plt.grid(True)\n",
        "    plt.show()\n",
        "\n",
        "# Esempio d'uso\n",
        "# plot_scatter(df, \"fheight\", \"sheight\", \"Altezza del padre\", \"Altezza del figlio\", \"Relazione tra altezze\")\n",
        "\n"
      ],
      "metadata": {
        "id": "4qTBIKPw_fbi"
      },
      "id": "4qTBIKPw_fbi",
      "execution_count": null,
      "outputs": []
    },
    {
      "cell_type": "markdown",
      "id": "2c3cc505",
      "metadata": {
        "id": "2c3cc505"
      },
      "source": [
        "## 🧹 2. Preprocessing dei dati"
      ]
    },
    {
      "cell_type": "markdown",
      "id": "511b76cd",
      "metadata": {
        "id": "511b76cd"
      },
      "source": [
        "### ✏️ Esercizio 2.1\n",
        "Verifica se ci sono valori nulli nel dataset.\n"
      ]
    },
    {
      "cell_type": "code",
      "source": [
        "# Esercizio 2.1"
      ],
      "metadata": {
        "id": "YayQsgBI_mMP"
      },
      "id": "YayQsgBI_mMP",
      "execution_count": null,
      "outputs": []
    },
    {
      "cell_type": "markdown",
      "id": "53bc0158",
      "metadata": {
        "id": "53bc0158"
      },
      "source": [
        "### ✏️ Esercizio 2.2\n",
        "Standardizza o normalizza i dati (opzionale) per sperimentare come cambiano i risultati.\n"
      ]
    },
    {
      "cell_type": "code",
      "source": [
        "# Esercizio 2.2"
      ],
      "metadata": {
        "id": "zKGuFD-b_oe-"
      },
      "id": "zKGuFD-b_oe-",
      "execution_count": null,
      "outputs": []
    },
    {
      "cell_type": "markdown",
      "id": "18d92c61",
      "metadata": {
        "id": "18d92c61"
      },
      "source": [
        "## 🤖 3. Creazione del modello"
      ]
    },
    {
      "cell_type": "markdown",
      "id": "e6918d26",
      "metadata": {
        "id": "e6918d26"
      },
      "source": [
        "### ✏️ Esercizio 3.1\n",
        "Dividi il dataset in un training set (80%) e un test set (20%).\n"
      ]
    },
    {
      "cell_type": "code",
      "source": [
        "# Esercizio 3.1"
      ],
      "metadata": {
        "id": "V9RbdaGr_qTC"
      },
      "id": "V9RbdaGr_qTC",
      "execution_count": null,
      "outputs": []
    },
    {
      "cell_type": "markdown",
      "id": "34df7e62",
      "metadata": {
        "id": "34df7e62"
      },
      "source": [
        "### ✏️ Esercizio 3.2\n",
        "Allena un modello di regressione lineare usando i dati di training.\n"
      ]
    },
    {
      "cell_type": "code",
      "source": [
        "# Esercizio 3.2"
      ],
      "metadata": {
        "id": "1PxOr0iS_swM"
      },
      "id": "1PxOr0iS_swM",
      "execution_count": null,
      "outputs": []
    },
    {
      "cell_type": "markdown",
      "id": "f5b04b42",
      "metadata": {
        "id": "f5b04b42"
      },
      "source": [
        "### ✏️ Esercizio 3.3\n",
        "Visualizza la retta di regressione sopra il grafico scatter.\n",
        "\n",
        "👇 Ti diamo qui un esempio di funzione da utilizzare per questo tipo di visualizzazione:\n"
      ]
    },
    {
      "cell_type": "code",
      "execution_count": null,
      "id": "3cbeb23f",
      "metadata": {
        "id": "3cbeb23f"
      },
      "outputs": [],
      "source": [
        "import matplotlib.pyplot as plt\n",
        "import numpy as np\n",
        "\n",
        "def plot_regression_line(x, y, model):\n",
        "    plt.figure(figsize=(8, 5))\n",
        "    plt.scatter(x, y, color='blue', label='Dati reali')\n",
        "    predicted = model.predict(np.array(x).reshape(-1, 1))\n",
        "    plt.plot(x, predicted, color='red', label='Retta di regressione')\n",
        "    plt.xlabel(\"Altezza del padre (fheight)\")\n",
        "    plt.ylabel(\"Altezza del figlio (sheight)\")\n",
        "    plt.title(\"Regressione Lineare\")\n",
        "    plt.legend()\n",
        "    plt.grid(True)\n",
        "    plt.show()"
      ]
    },
    {
      "cell_type": "markdown",
      "id": "21e6808b",
      "metadata": {
        "id": "21e6808b"
      },
      "source": [
        "## 📏 4. Valutazione del modello"
      ]
    },
    {
      "cell_type": "markdown",
      "id": "2f711044",
      "metadata": {
        "id": "2f711044"
      },
      "source": [
        "### ✏️ Esercizio 4.1\n",
        "Calcola l’MSE (Mean Squared Error) e R² sul test set per valutare le performance del modello.\n"
      ]
    },
    {
      "cell_type": "code",
      "source": [
        "# Esercizio 4.1"
      ],
      "metadata": {
        "id": "OwTM2FiF_xas"
      },
      "id": "OwTM2FiF_xas",
      "execution_count": null,
      "outputs": []
    },
    {
      "cell_type": "markdown",
      "id": "9b03c17c",
      "metadata": {
        "id": "9b03c17c"
      },
      "source": [
        "### ✏️ Esercizio 4.2\n",
        "Usa il modello per prevedere l’altezza di un figlio dato un valore ipotetico di altezza del padre (es. 70 pollici).\n"
      ]
    },
    {
      "cell_type": "code",
      "source": [
        "# Esercizio 4.2"
      ],
      "metadata": {
        "id": "TJuxVr0F_1kJ"
      },
      "id": "TJuxVr0F_1kJ",
      "execution_count": null,
      "outputs": []
    },
    {
      "cell_type": "markdown",
      "id": "29cbf672",
      "metadata": {
        "id": "29cbf672"
      },
      "source": [
        "## 🚀 5. Pezzi finali"
      ]
    },
    {
      "cell_type": "markdown",
      "id": "bd28b477",
      "metadata": {
        "id": "bd28b477"
      },
      "source": [
        "### ✏️ Esercizio 5.1\n",
        "Aggiungi del rumore casuale ai dati e osserva come cambiano i risultati della regressione.\n"
      ]
    },
    {
      "cell_type": "code",
      "source": [
        "# Esercizio 5.1"
      ],
      "metadata": {
        "id": "sxGRb89O_3wZ"
      },
      "id": "sxGRb89O_3wZ",
      "execution_count": null,
      "outputs": []
    },
    {
      "cell_type": "markdown",
      "id": "13d9eed1",
      "metadata": {
        "id": "13d9eed1"
      },
      "source": [
        "### ✏️ Esercizio 5.2\n",
        "Crea una funzione che prende in input l’altezza del padre da tastiera e restituisce la previsione dell’altezza del figlio.\n"
      ]
    },
    {
      "cell_type": "code",
      "source": [
        "# Esercizio 5.2"
      ],
      "metadata": {
        "id": "66Ba7B4R_5ma"
      },
      "id": "66Ba7B4R_5ma",
      "execution_count": null,
      "outputs": []
    }
  ],
  "metadata": {
    "colab": {
      "provenance": []
    },
    "language_info": {
      "name": "python"
    },
    "kernelspec": {
      "name": "python3",
      "display_name": "Python 3"
    }
  },
  "nbformat": 4,
  "nbformat_minor": 5
}