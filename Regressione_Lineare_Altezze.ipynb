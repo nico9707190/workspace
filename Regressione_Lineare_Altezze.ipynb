{
 "cells": [
  {
   "cell_type": "markdown",
   "id": "20be5b49",
   "metadata": {
    "id": "20be5b49"
   },
   "source": [
    "# 📊 Regressione Lineare con il Dataset delle Altezze\n",
    "\n",
    "In questo notebook esploreremo un dataset contenente l'altezza dei padri (`fheight`) e dei figli (`sheight`), con l'obiettivo di costruire un modello di regressione lineare per prevedere l'altezza del figlio conoscendo quella del padre.\n",
    "\n",
    "---\n",
    "\n",
    "## Obiettivo\n",
    "\n",
    "Guidarti passo dopo passo attraverso il ciclo di vita di un progetto di *Machine Learning supervisionato*, includendo:\n",
    "- Esplorazione dei dati\n",
    "- Preprocessing\n",
    "- Addestramento del modello\n",
    "- Valutazione\n",
    "- Visualizzazione dei risultati\n"
   ]
  },
  {
   "cell_type": "markdown",
   "id": "77e4c836",
   "metadata": {
    "id": "77e4c836"
   },
   "source": [
    "## 🔍 1. Esplorazione del dataset"
   ]
  },
  {
   "cell_type": "markdown",
   "id": "29744039",
   "metadata": {
    "id": "29744039"
   },
   "source": [
    "### ✏️ Esercizio 1.1\n",
    "Carica il dataset `pearson_dataset.csv` e stampa le prime 5 righe per esplorare la struttura dei dati.\n"
   ]
  },
  {
   "cell_type": "code",
   "execution_count": null,
   "id": "PPMDGTVy_Mbp",
   "metadata": {
    "id": "PPMDGTVy_Mbp"
   },
   "outputs": [
    {
     "data": {
      "text/html": [
       "<div>\n",
       "<style scoped>\n",
       "    .dataframe tbody tr th:only-of-type {\n",
       "        vertical-align: middle;\n",
       "    }\n",
       "\n",
       "    .dataframe tbody tr th {\n",
       "        vertical-align: top;\n",
       "    }\n",
       "\n",
       "    .dataframe thead th {\n",
       "        text-align: right;\n",
       "    }\n",
       "</style>\n",
       "<table border=\"1\" class=\"dataframe\">\n",
       "  <thead>\n",
       "    <tr style=\"text-align: right;\">\n",
       "      <th></th>\n",
       "      <th>fheight</th>\n",
       "      <th>sheight</th>\n",
       "    </tr>\n",
       "  </thead>\n",
       "  <tbody>\n",
       "    <tr>\n",
       "      <th>0</th>\n",
       "      <td>65.04851</td>\n",
       "      <td>59.77827</td>\n",
       "    </tr>\n",
       "    <tr>\n",
       "      <th>1</th>\n",
       "      <td>63.25094</td>\n",
       "      <td>63.21404</td>\n",
       "    </tr>\n",
       "    <tr>\n",
       "      <th>2</th>\n",
       "      <td>64.95532</td>\n",
       "      <td>63.34242</td>\n",
       "    </tr>\n",
       "    <tr>\n",
       "      <th>3</th>\n",
       "      <td>65.75250</td>\n",
       "      <td>62.79238</td>\n",
       "    </tr>\n",
       "    <tr>\n",
       "      <th>4</th>\n",
       "      <td>61.13723</td>\n",
       "      <td>64.28113</td>\n",
       "    </tr>\n",
       "  </tbody>\n",
       "</table>\n",
       "</div>"
      ],
      "text/plain": [
       "    fheight   sheight\n",
       "0  65.04851  59.77827\n",
       "1  63.25094  63.21404\n",
       "2  64.95532  63.34242\n",
       "3  65.75250  62.79238\n",
       "4  61.13723  64.28113"
      ]
     },
     "execution_count": 1,
     "metadata": {},
     "output_type": "execute_result"
    }
   ],
   "source": [
    "# Qui faccio l'esercizio 1.1\n",
    "import pandas as pd\n",
    "import numpy as np\n",
    "import mathplotlib.pyplot as plt\n",
    "df = pd.read_csv(\"pearson_dataset.csv\")\n",
    "df.head()"
   ]
  },
  {
   "cell_type": "markdown",
   "id": "05171f16",
   "metadata": {
    "id": "05171f16"
   },
   "source": [
    "### ✏️ Esercizio 1.2\n",
    "Calcola media, mediana e deviazione standard delle due colonne `fheight` e `sheight`.\n"
   ]
  },
  {
   "cell_type": "code",
   "execution_count": null,
   "id": "NEZIWloG_Pca",
   "metadata": {
    "id": "NEZIWloG_Pca"
   },
   "outputs": [
    {
     "name": "stdout",
     "output_type": "stream",
     "text": [
      "fheight    67.687097\n",
      "sheight    68.684070\n",
      "dtype: float64\n",
      "fheight    67.76660\n",
      "sheight    68.61582\n",
      "dtype: float64\n",
      "fheight    2.744868\n",
      "sheight    2.814702\n",
      "dtype: float64\n"
     ]
    }
   ],
   "source": [
    "# Qui esercizio 1.\n",
    "fheight = df[[\"fheight\"]]\n",
    "sheight = df[[\"sheight\"]]\n",
    "mean = df.mean()\n",
    "median = df.median()\n",
    "std = df.std()\n",
    "print(mean)\n",
    "print(median)\n",
    "print(std)"
   ]
  },
  {
   "cell_type": "markdown",
   "id": "0f2d56aa",
   "metadata": {
    "id": "0f2d56aa"
   },
   "source": [
    "### ✏️ Esercizio 1.3\n",
    "Invoca la funzione per disegnare uno scatterplot con `fheight` sull'asse X e `sheight` sull'asse Y per visualizzare la relazione tra le due variabili.\n",
    "\n",
    "\n"
   ]
  },
  {
   "cell_type": "code",
   "execution_count": 7,
   "id": "4qTBIKPw_fbi",
   "metadata": {
    "id": "4qTBIKPw_fbi"
   },
   "outputs": [
    {
     "ename": "ModuleNotFoundError",
     "evalue": "No module named 'pandas'",
     "output_type": "error",
     "traceback": [
      "\u001b[31m---------------------------------------------------------------------------\u001b[39m",
      "\u001b[31mModuleNotFoundError\u001b[39m                       Traceback (most recent call last)",
      "\u001b[36mCell\u001b[39m\u001b[36m \u001b[39m\u001b[32mIn[7]\u001b[39m\u001b[32m, line 1\u001b[39m\n\u001b[32m----> \u001b[39m\u001b[32m1\u001b[39m \u001b[38;5;28;01mimport\u001b[39;00m\u001b[38;5;250m \u001b[39m\u001b[34;01mpandas\u001b[39;00m\u001b[38;5;250m \u001b[39m\u001b[38;5;28;01mas\u001b[39;00m\u001b[38;5;250m \u001b[39m\u001b[34;01mpd\u001b[39;00m\n\u001b[32m      2\u001b[39m \u001b[38;5;28;01mimport\u001b[39;00m\u001b[38;5;250m \u001b[39m\u001b[34;01mnumpy\u001b[39;00m\u001b[38;5;250m \u001b[39m\u001b[38;5;28;01mas\u001b[39;00m\u001b[38;5;250m \u001b[39m\u001b[34;01mnp\u001b[39;00m\n\u001b[32m      3\u001b[39m \u001b[38;5;28;01mimport\u001b[39;00m\u001b[38;5;250m \u001b[39m\u001b[34;01mmathplotlib\u001b[39;00m\u001b[34;01m.\u001b[39;00m\u001b[34;01mpyplot\u001b[39;00m\u001b[38;5;250m \u001b[39m\u001b[38;5;28;01mas\u001b[39;00m\u001b[38;5;250m \u001b[39m\u001b[34;01mplt\u001b[39;00m\n",
      "\u001b[31mModuleNotFoundError\u001b[39m: No module named 'pandas'"
     ]
    }
   ],
   "source": [
    "import pandas as pd\n",
    "import numpy as np\n",
    "import mathplotlib.pyplot as plt\n",
    "df = pd.read_csv(\"pearson_dataset.csv\")\n",
    "def plot_scatter(df, x_col, y_col, x_label=None, y_label=None, title=None):\n",
    "    \"\"\"\n",
    "    Crea uno scatter plot generico tra due colonne di un DataFrame.\n",
    "\n",
    "    Parametri:\n",
    "    - df: pandas DataFrame contenente i dati\n",
    "    - x_col: nome della colonna da usare sull'asse X\n",
    "    - y_col: nome della colonna da usare sull'asse Y\n",
    "    - x_label: etichetta asse X (opzionale)\n",
    "    - y_label: etichetta asse Y (opzionale)\n",
    "    - title: titolo del grafico (opzionale)\n",
    "    \"\"\"\n",
    "    plt.figure(figsize=(8, 5))\n",
    "    plt.scatter(df[x_col], df[y_col], alpha=0.7)\n",
    "    plt.xlabel(x_label if x_label else x_col)\n",
    "    plt.ylabel(y_label if y_label else y_col)\n",
    "    plt.title(title if title else f\"{y_col} vs {x_col}\")\n",
    "    plt.grid(True)\n",
    "    plt.show()\n",
    "\n",
    "# Esempio d'uso\n",
    "plot_scatter(df, \"fheight\", \"sheight\", \"Altezza del padre\", \"Altezza del figlio\", \"Relazione tra altezze\")\n",
    "df.corr()\n",
    "\n"
   ]
  },
  {
   "cell_type": "markdown",
   "id": "2c3cc505",
   "metadata": {
    "id": "2c3cc505"
   },
   "source": [
    "## 🧹 2. Preprocessing dei dati"
   ]
  },
  {
   "cell_type": "markdown",
   "id": "511b76cd",
   "metadata": {
    "id": "511b76cd"
   },
   "source": [
    "### ✏️ Esercizio 2.1\n",
    "Verifica se ci sono valori nulli nel dataset.\n"
   ]
  },
  {
   "cell_type": "code",
   "execution_count": null,
   "id": "YayQsgBI_mMP",
   "metadata": {
    "id": "YayQsgBI_mMP"
   },
   "outputs": [],
   "source": [
    "# Esercizio 2.1\n",
    "dataframe = pd.read_csv(\"pearson_dataset.csv\")\n",
    "dataframe.isnull().sum()"
   ]
  },
  {
   "cell_type": "markdown",
   "id": "53bc0158",
   "metadata": {
    "id": "53bc0158"
   },
   "source": [
    "### ✏️ Esercizio 2.2\n",
    "Standardizza o normalizza i dati (opzionale) per sperimentare come cambiano i risultati.\n"
   ]
  },
  {
   "cell_type": "code",
   "execution_count": 1,
   "id": "zKGuFD-b_oe-",
   "metadata": {
    "id": "zKGuFD-b_oe-"
   },
   "outputs": [
    {
     "ename": "NameError",
     "evalue": "name 'pd' is not defined",
     "output_type": "error",
     "traceback": [
      "\u001b[31m---------------------------------------------------------------------------\u001b[39m",
      "\u001b[31mNameError\u001b[39m                                 Traceback (most recent call last)",
      "\u001b[36mCell\u001b[39m\u001b[36m \u001b[39m\u001b[32mIn[1]\u001b[39m\u001b[32m, line 2\u001b[39m\n\u001b[32m      1\u001b[39m \u001b[38;5;66;03m# Esercizio 2.2\u001b[39;00m\n\u001b[32m----> \u001b[39m\u001b[32m2\u001b[39m dataframe = \u001b[43mpd\u001b[49m.read_csv(\u001b[33m\"\u001b[39m\u001b[33mpearson_dataset.csv\u001b[39m\u001b[33m\"\u001b[39m)\n\u001b[32m      3\u001b[39m plt.figure(figsize = (\u001b[32m8\u001b[39m,\u001b[32m6\u001b[39m))\n\u001b[32m      4\u001b[39m plt.boxplot(df.values, vert = \u001b[38;5;28;01mFalse\u001b[39;00m, patch_artist = \u001b[38;5;28;01mTrue\u001b[39;00m)\n",
      "\u001b[31mNameError\u001b[39m: name 'pd' is not defined"
     ]
    }
   ],
   "source": [
    "# Esercizio 2.2\n",
    "dataframe = pd.read_csv(\"pearson_dataset.csv\")\n",
    "plt.figure(figsize = (8,6))\n",
    "plt.boxplot(df.values, vert = False, patch_artist = True)\n",
    "\n",
    "plt.yticks(range(1, len(df.columns) + 1), df.columns)\n",
    "\n",
    "plt.title(\"box plot orizzontale delle colonne\")\n",
    "plt.grid(axis = \"x\", linestyle = \"--\", alpha = 0.7)"
   ]
  },
  {
   "cell_type": "markdown",
   "id": "125914a9",
   "metadata": {},
   "source": [
    "#SPIEGAZZIAMO I BLOXPLOT\n",
    "\n",
    "Un boxplot, noto anche come diagramma a scatola, è uno strumento grafico utilizzato per rappresentare la distribuzione di un insieme di dati numerici. La sua principale funzione è mostrare la dispersione, la mediana e i valori estremi (outlier) in un'unica rappresentazione visiva. Ecco i principali componenti di un boxplot:\n",
    "1. **Scatola** (Box)\n",
    "La scatola rappresenta l'intervallo interquartile (IQR), ovvero l'area che contiene il 50% dei dati centrali.\n",
    "La scatola è delimitata da due linee: la prima quartile (Q1), che segna il 25% dei dati, e la terza quartile (Q3), che segna il 75% dei dati.\n",
    "La lunghezza della scatola rappresenta l'IQR, quindi l'ampiezza della distribuzione centrale.\n",
    "\n",
    "\n",
    "2. **Linea della Mediana**\n",
    "All'interno della scatola, c'è una linea che rappresenta la mediana (Q2), cioè il valore che separa il 50% centrale dei dati.\n",
    "Se la mediana è spostata verso uno dei due lati della scatola, significa che la distribuzione dei dati non è simmetrica (skewed).\n",
    "\n",
    "\n",
    "3. **Whiskers** (Baffi)\n",
    "I baffi sono le linee che si estendono dalla scatola verso l'alto e verso il basso.\n",
    "Rappresentano i valori minimo e massimo che non sono considerati outlier.\n",
    "I baffi terminano a una distanza pari a 1,5 volte l'IQR rispetto ai quartili (Q1 e Q3).\n",
    "Se i dati vanno oltre questa distanza, vengono considerati outlier.\n",
    "\n",
    "\n",
    "4. **Outliers** (Valori Anomali)\n",
    "I valori che si trovano oltre i baffi vengono rappresentati come punti isolati.\n",
    "Questi valori sono considerati outliers, cioè dati che si discostano significativamente dalla distribuzione centrale.\n",
    "\n",
    "\n",
    "5. **Interpretazione**\n",
    "Il boxplot fornisce informazioni sulla simmetria della distribuzione, sulla presenza di outlier e sulla variabilità dei dati.\n",
    "Un boxplot simmetrico indica una distribuzione normale, mentre un boxplot asimmetrico suggerisce una distribuzione inclinata.\n",
    "\n",
    "\n",
    "I valori anomali possono essere identificati facilmente grazie ai punti isolati, mentre la scatola e la mediana permettono di analizzare la dispersione e il centro dei dati.\n",
    "\n",
    "#IQR\n",
    "\n",
    "L'IQR, acronimo di **Interquartile Range** (intervallo interquartile), è una misura della dispersione dei dati che descrive l'ampiezza dell'intervallo in cui si trova il 50% centrale dei dati in un insieme di valori numerici. In altre parole, l'IQR indica quanto i dati siano concentrati attorno alla mediana.\n",
    "Come si calcola l'IQR?\n",
    "L'IQR è la **differenza** tra il **terzo quartile** (Q3) e il **primo quartile** (Q1) di una distribuzione. Per calcolarlo, devi seguire questi passaggi:\n",
    "\n",
    "Ordina i dati in ordine crescente.\n",
    "\n",
    "Trova il **primo quartile** (Q1): È il valore che **separa il 25% inferiore dei dati** dal resto. In altre parole, è la **mediana della metà inferiore** dei dati.\n",
    "\n",
    "Trova il **terzo quartile** (Q3): È il valore che **separa il 75% dei dati inferiori** dal 25% superiore. In altre parole, è la **mediana della metà superiore** dei dati.\n",
    "\n",
    "\n",
    "Calcola l'IQR come la differenza tra Q3 e Q1:\n",
    " IQR=Q3−Q1\\text{IQR} = Q3 - Q1IQR=Q3−Q1\n",
    "Perché l'IQR è importante?\n",
    "L'IQR è un modo robusto per misurare la dispersione dei dati, in quanto non è influenzato dai valori estremi (outlier). Questo lo rende particolarmente utile quando si lavora con distribuzioni che contengono valori anomali.\n",
    "\n",
    "\n",
    "Viene utilizzato per identificare outliers in un boxplot. Un outlier è un valore che si trova al di fuori dell'intervallo definito da Q1−1.5×IQRQ1 - 1.5 \\times \\text{IQR}Q1−1.5×IQR e Q3+1.5×IQRQ3 + 1.5 \\times \\text{IQR}Q3+1.5×IQR. Valori che superano questi limiti vengono considerati outliers.\n",
    "\n",
    "\n",
    "Esempio:\n",
    "Immagina di avere i seguenti dati ordinati:\n",
    " 1,3,4,6,8,12,15,18,201, 3, 4, 6, 8, 12, 15, 18, 201,3,4,6,8,12,15,18,20\n",
    "Il primo quartile (Q1) è la mediana della metà inferiore dei dati: tra 1 e 4, quindi Q1=3Q1 = 3Q1=3.\n",
    "\n",
    "Il terzo quartile (Q3) è la mediana della metà superiore dei dati: tra 15 e 18, quindi Q3=16.5Q3 = 16.5Q3=16.5.\n",
    "\n",
    "L'IQR è quindi 16.5−3=13.516.5 - 3 = 13.516.5−3=13.5.\n",
    "\n",
    "L'IQR ci dice che la maggior parte dei dati (il 50%) si trova nell'intervallo che va da 3 a 16.5, e che l'ampiezza di questo intervallo è 13.5.\n",
    "In sintesi, l'IQR è una misura fondamentale per comprendere la distribuzione dei dati e identificare eventuali valori anomali (outliers) in un dataset.\n"
   ]
  },
  {
   "cell_type": "markdown",
   "id": "18d92c61",
   "metadata": {
    "id": "18d92c61"
   },
   "source": [
    "## 🤖 3. Creazione del modello"
   ]
  },
  {
   "cell_type": "markdown",
   "id": "e6918d26",
   "metadata": {
    "id": "e6918d26"
   },
   "source": [
    "### ✏️ Esercizio 3.1\n",
    "Dividi il dataset in un training set (80%) e un test set (20%).\n"
   ]
  },
  {
   "cell_type": "code",
   "execution_count": null,
   "id": "V9RbdaGr_qTC",
   "metadata": {
    "id": "V9RbdaGr_qTC"
   },
   "outputs": [],
   "source": [
    "# Esercizio 3.1"
   ]
  },
  {
   "cell_type": "markdown",
   "id": "34df7e62",
   "metadata": {
    "id": "34df7e62"
   },
   "source": [
    "### ✏️ Esercizio 3.2\n",
    "Allena un modello di regressione lineare usando i dati di training.\n"
   ]
  },
  {
   "cell_type": "code",
   "execution_count": null,
   "id": "1PxOr0iS_swM",
   "metadata": {
    "id": "1PxOr0iS_swM"
   },
   "outputs": [],
   "source": [
    "# Esercizio 3.2"
   ]
  },
  {
   "cell_type": "markdown",
   "id": "f5b04b42",
   "metadata": {
    "id": "f5b04b42"
   },
   "source": [
    "### ✏️ Esercizio 3.3\n",
    "Visualizza la retta di regressione sopra il grafico scatter.\n",
    "\n",
    "👇 Ti diamo qui un esempio di funzione da utilizzare per questo tipo di visualizzazione:\n"
   ]
  },
  {
   "cell_type": "code",
   "execution_count": null,
   "id": "3cbeb23f",
   "metadata": {
    "id": "3cbeb23f"
   },
   "outputs": [],
   "source": [
    "import matplotlib.pyplot as plt\n",
    "import numpy as np\n",
    "\n",
    "def plot_regression_line(x, y, model):\n",
    "    plt.figure(figsize=(8, 5))\n",
    "    plt.scatter(x, y, color='blue', label='Dati reali')\n",
    "    predicted = model.predict(np.array(x).reshape(-1, 1))\n",
    "    plt.plot(x, predicted, color='red', label='Retta di regressione')\n",
    "    plt.xlabel(\"Altezza del padre (fheight)\")\n",
    "    plt.ylabel(\"Altezza del figlio (sheight)\")\n",
    "    plt.title(\"Regressione Lineare\")\n",
    "    plt.legend()\n",
    "    plt.grid(True)\n",
    "    plt.show()"
   ]
  },
  {
   "cell_type": "markdown",
   "id": "21e6808b",
   "metadata": {
    "id": "21e6808b"
   },
   "source": [
    "## 📏 4. Valutazione del modello"
   ]
  },
  {
   "cell_type": "markdown",
   "id": "2f711044",
   "metadata": {
    "id": "2f711044"
   },
   "source": [
    "### ✏️ Esercizio 4.1\n",
    "Calcola l’MSE (Mean Squared Error) e R² sul test set per valutare le performance del modello.\n"
   ]
  },
  {
   "cell_type": "code",
   "execution_count": null,
   "id": "OwTM2FiF_xas",
   "metadata": {
    "id": "OwTM2FiF_xas"
   },
   "outputs": [],
   "source": [
    "# Esercizio 4.1"
   ]
  },
  {
   "cell_type": "markdown",
   "id": "9b03c17c",
   "metadata": {
    "id": "9b03c17c"
   },
   "source": [
    "### ✏️ Esercizio 4.2\n",
    "Usa il modello per prevedere l’altezza di un figlio dato un valore ipotetico di altezza del padre (es. 70 pollici).\n"
   ]
  },
  {
   "cell_type": "code",
   "execution_count": null,
   "id": "TJuxVr0F_1kJ",
   "metadata": {
    "id": "TJuxVr0F_1kJ"
   },
   "outputs": [],
   "source": [
    "# Esercizio 4.2"
   ]
  },
  {
   "cell_type": "markdown",
   "id": "29cbf672",
   "metadata": {
    "id": "29cbf672"
   },
   "source": [
    "## 🚀 5. Pezzi finali"
   ]
  },
  {
   "cell_type": "markdown",
   "id": "bd28b477",
   "metadata": {
    "id": "bd28b477"
   },
   "source": [
    "### ✏️ Esercizio 5.1\n",
    "Aggiungi del rumore casuale ai dati e osserva come cambiano i risultati della regressione.\n"
   ]
  },
  {
   "cell_type": "code",
   "execution_count": null,
   "id": "sxGRb89O_3wZ",
   "metadata": {
    "id": "sxGRb89O_3wZ"
   },
   "outputs": [],
   "source": [
    "# Esercizio 5.1"
   ]
  },
  {
   "cell_type": "markdown",
   "id": "13d9eed1",
   "metadata": {
    "id": "13d9eed1"
   },
   "source": [
    "### ✏️ Esercizio 5.2\n",
    "Crea una funzione che prende in input l’altezza del padre da tastiera e restituisce la previsione dell’altezza del figlio.\n"
   ]
  },
  {
   "cell_type": "code",
   "execution_count": null,
   "id": "66Ba7B4R_5ma",
   "metadata": {
    "id": "66Ba7B4R_5ma"
   },
   "outputs": [],
   "source": [
    "# Esercizio 5.2"
   ]
  }
 ],
 "metadata": {
  "colab": {
   "provenance": []
  },
  "kernelspec": {
   "display_name": "Python 3",
   "language": "python",
   "name": "python3"
  },
  "language_info": {
   "codemirror_mode": {
    "name": "ipython",
    "version": 3
   },
   "file_extension": ".py",
   "mimetype": "text/x-python",
   "name": "python",
   "nbconvert_exporter": "python",
   "pygments_lexer": "ipython3",
   "version": "3.12.3"
  }
 },
 "nbformat": 4,
 "nbformat_minor": 5
}
